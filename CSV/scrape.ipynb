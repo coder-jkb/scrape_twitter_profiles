{
 "cells": [
  {
   "attachments": {},
   "cell_type": "markdown",
   "metadata": {},
   "source": [
    "# Task \n",
    "- Download the CSV file from the link- https://drive.google.com/file/d/1PLYwrGn5YApyWU2QpjbdhM6tea0HuGq7/view?usp=sharing\n",
    "- Scrape the Twitter profile with Python Selenium or Beautiful Soup\n",
    "- Details needed are - `Bio, Following Count, Followers Count, Location, Website(If available)`\n",
    "- The program should create a CSV file with the above columns.\n",
    "\n",
    "The code should be well commented and optimized, there will be extra marks for that\n",
    "Make a short video explaining and running the task in <10mins. \n",
    "\n",
    "Don't need to show long-running codes.\n",
    "\n",
    "Upload your code to a GitHub public repository\n",
    "Submit the video and the GitHub link for the same in the submission form\n"
   ]
  },
  {
   "attachments": {},
   "cell_type": "markdown",
   "metadata": {},
   "source": [
    "Scrape the Twitter profile with Python Selenium from the links stored in csv file. Obtain `Bio, Following Count, Followers Count, Location, Website` from the profile if available."
   ]
  },
  {
   "cell_type": "code",
   "execution_count": 3,
   "metadata": {},
   "outputs": [],
   "source": [
    "import csv\n",
    "from selenium import webdriver\n",
    "from selenium.webdriver.common.by import By\n",
    "from selenium.webdriver.chrome.service import Service\n",
    "from webdriver_manager.chrome import ChromeDriverManager\n",
    "from selenium.webdriver.chrome.options import Options\n",
    "\n",
    "from selenium.common.exceptions import TimeoutException\n",
    "from selenium.webdriver.support.ui import WebDriverWait\n",
    "from selenium.webdriver.support import expected_conditions as EC\n",
    "\n",
    "from selenium.webdriver.common.action_chains import ActionChains\n",
    "from selenium.webdriver.common.keys import Keys\n"
   ]
  },
  {
   "cell_type": "code",
   "execution_count": 4,
   "metadata": {},
   "outputs": [],
   "source": [
    "def launch_chrome(link, headless=False):\n",
    "    ops = Options()  # create object of Options\n",
    "\n",
    "    if headless:\n",
    "        ops.add_argument('--headless')  # headless browser testing\n",
    "\n",
    "    # prevents browser from closing when function is returned\n",
    "    ops.add_experimental_option(\"detach\", True)\n",
    "\n",
    "    driver = webdriver.Chrome(options=ops,  service=Service(\n",
    "        ChromeDriverManager().install()))\n",
    "\n",
    "    driver.get(link)\n",
    "    return driver\n"
   ]
  },
  {
   "cell_type": "code",
   "execution_count": 5,
   "metadata": {},
   "outputs": [],
   "source": [
    "def get_element(driver, path, timeout):\n",
    "    element_present = None\n",
    "\n",
    "    try:\n",
    "        element_present = WebDriverWait(driver, timeout).until(\n",
    "            EC.presence_of_element_located((By.XPATH, path)))\n",
    "\n",
    "    except TimeoutException:\n",
    "        print(\"Timed out waiting for page to load and finding the required web element.\")\n",
    "        print(path)\n",
    "    finally:\n",
    "        return element_present\n"
   ]
  },
  {
   "attachments": {},
   "cell_type": "markdown",
   "metadata": {},
   "source": [
    "## Get links for csv file"
   ]
  },
  {
   "cell_type": "code",
   "execution_count": 6,
   "metadata": {},
   "outputs": [
    {
     "name": "stdout",
     "output_type": "stream",
     "text": [
      "['https://twitter.com/GTNUK1', 'https://twitter.com/whatsapp', 'https://twitter.com/aacb_CBPTrade', 'https://twitter.com/aacbdotcom', 'https://twitter.com/@AAWindowPRODUCT', 'https://www.twitter.com/aandb_kia', 'https://twitter.com/ABHomeInc', 'https://twitter.com/Abrepro', 'http://www.twitter.com', 'https://twitter.com/ACChristofiLtd', 'https://twitter.com/aeclothing1', 'http://www.twitter.com/', 'https://twitter.com/AETechnologies1', 'http://www.twitter.com/wix', 'https://twitter.com/AGInsuranceLLC']\n"
     ]
    }
   ],
   "source": [
    "links = []\n",
    "\n",
    "with open('twitter_links.csv', 'r') as links_csv:\n",
    "    rows = csv.reader(links_csv)\n",
    "    # displaying the contents of the CSV file\n",
    "\n",
    "    for row in rows:\n",
    "        links.append(row[0])\n",
    "\n",
    "print(links)"
   ]
  },
  {
   "cell_type": "code",
   "execution_count": 7,
   "metadata": {},
   "outputs": [],
   "source": [
    "xpaths = {\n",
    "    'BIO':\n",
    "    '//*[@id=\"react-root\"]/div/div/div[2]/main/div/div/div/div[1]/div/div[3]/div/div/div/div/div[3]',\n",
    "\n",
    "    'LOCATION':\n",
    "    '//*[@id=\"react-root\"]/div/div/div[2]/main/div/div/div/div[1]/div/div[3]/div/div/div/div/div[4]/div/span[1]/span',\n",
    "\n",
    "    'FOLLOWING':\n",
    "    '//*[@id=\"react-root\"]/div/div/div[2]/main/div/div/div/div[1]/div/div[3]/div/div/div/div/div[5]/div[1]/a/span[1]/span',\n",
    "\n",
    "    'FOLLOWERS':\n",
    "    '//*[@id=\"react-root\"]/div/div/div[2]/main/div/div/div/div[1]/div/div[3]/div/div/div/div/div[5]/div[2]/a/span[1]/span',\n",
    "\n",
    "    'WEBSITE':\n",
    "    '//*[@id=\"react-root\"]/div/div/div[2]/main/div/div/div/div[1]/div/div[3]/div/div/div/div/div[4]/div/a/span'\n",
    "    \n",
    "    }"
   ]
  },
  {
   "cell_type": "code",
   "execution_count": 8,
   "metadata": {},
   "outputs": [],
   "source": [
    "def get_details(drive):\n",
    "\n",
    "    bio = get_element(drive, xpaths['BIO'], timeout=10)\n",
    "    location = get_element(drive, xpaths['LOCATION'], timeout=10)\n",
    "    following = get_element(drive, xpaths['FOLLOWING'], timeout=10)\n",
    "    followers = get_element(drive, xpaths['FOLLOWERS'], timeout=10)\n",
    "    website = get_element(drive, xpaths['WEBSITE'], timeout=10)\n",
    "    elements = [bio, location, following, followers, website]\n",
    "\n",
    "    details = []\n",
    "    for element in elements:\n",
    "        if element:\n",
    "            details.append(element.text)\n",
    "        else:\n",
    "            details.append(None)\n",
    "\n",
    "    print(details)\n",
    "    return details"
   ]
  },
  {
   "cell_type": "code",
   "execution_count": 10,
   "metadata": {},
   "outputs": [
    {
     "name": "stdout",
     "output_type": "stream",
     "text": [
      "['Providing Entertainment & Travel to Commercial Radio. Reaching 28.9M weekly listeners. Winners of The Arqiva National Sales Team of the Year 2010, 2011 & 2016', 'London, England', '463', '126', 'gtn.uk.com/index.php']\n",
      "['Happy #PrideMonth \\n#CrossingCultures Ep 2, out now ', 'California', '2', '4.8M', 'bit.ly/3IRGfXH']\n",
      "Timed out waiting for page to load and finding the required web element.\n",
      "//*[@id=\"react-root\"]/div/div/div[2]/main/div/div/div/div[1]/div/div[3]/div/div/div/div/div[4]/div/a/span\n",
      "['Customs Broker', 'Florida, USA', '125', '31', None]\n",
      "['A & A Freight | Warehousing | Customs Brokerage | Helping people ship across borders.', 'Worldwide', '4,078', '665', 'aacb.com']\n",
      "['A commercial glass and glazing company serving the window industry in New England since 1954. #SafetyQualityService', 'Malden, MA', '90', '76', 'aawindowproducts.com']\n",
      "['A&B Kia is a Kia dealer in Benwood, WV. Stay connected to exceed expectations. Build strong relationships. Drive the best with us.', 'Benwood, West Virginia ', '345', '296', 'aandbautosales.com']\n",
      "['Industry leader in wholesale home decor, furniture, and garden, since 1993.', 'Rancho Cucamonga, CA', '184', '360', 'abhomeinc.com']\n",
      "['From large format black & white prints to the most sophisticated of digital color printing jobs, A & B can get the job done right.', 'Bentonville, AR', '125', '137', 'abrepro.com']\n",
      "Timed out waiting for page to load and finding the required web element.\n",
      "//*[@id=\"react-root\"]/div/div/div[2]/main/div/div/div/div[1]/div/div[3]/div/div/div/div/div[3]\n",
      "Timed out waiting for page to load and finding the required web element.\n",
      "//*[@id=\"react-root\"]/div/div/div[2]/main/div/div/div/div[1]/div/div[3]/div/div/div/div/div[4]/div/span[1]/span\n",
      "Timed out waiting for page to load and finding the required web element.\n",
      "//*[@id=\"react-root\"]/div/div/div[2]/main/div/div/div/div[1]/div/div[3]/div/div/div/div/div[5]/div[1]/a/span[1]/span\n",
      "Timed out waiting for page to load and finding the required web element.\n",
      "//*[@id=\"react-root\"]/div/div/div[2]/main/div/div/div/div[1]/div/div[3]/div/div/div/div/div[5]/div[2]/a/span[1]/span\n",
      "Timed out waiting for page to load and finding the required web element.\n",
      "//*[@id=\"react-root\"]/div/div/div[2]/main/div/div/div/div[1]/div/div[3]/div/div/div/div/div[4]/div/a/span\n",
      "[None, None, None, None, None]\n",
      "['A & C CHRISTOFI LTD is a fast growing professional services company based in Limassol, Cyprus. Our main Concern is your Business.', 'Cyprus', '282', '88', 'acccyp.com']\n",
      "['Used Clothing Distributor', 'Carteret', '0', '15', 'aeclothing.net']\n",
      "Timed out waiting for page to load and finding the required web element.\n",
      "//*[@id=\"react-root\"]/div/div/div[2]/main/div/div/div/div[1]/div/div[3]/div/div/div/div/div[3]\n",
      "Timed out waiting for page to load and finding the required web element.\n",
      "//*[@id=\"react-root\"]/div/div/div[2]/main/div/div/div/div[1]/div/div[3]/div/div/div/div/div[4]/div/span[1]/span\n",
      "Timed out waiting for page to load and finding the required web element.\n",
      "//*[@id=\"react-root\"]/div/div/div[2]/main/div/div/div/div[1]/div/div[3]/div/div/div/div/div[5]/div[1]/a/span[1]/span\n",
      "Timed out waiting for page to load and finding the required web element.\n",
      "//*[@id=\"react-root\"]/div/div/div[2]/main/div/div/div/div[1]/div/div[3]/div/div/div/div/div[5]/div[2]/a/span[1]/span\n",
      "Timed out waiting for page to load and finding the required web element.\n",
      "//*[@id=\"react-root\"]/div/div/div[2]/main/div/div/div/div[1]/div/div[3]/div/div/div/div/div[4]/div/a/span\n",
      "[None, None, None, None, None]\n",
      "Timed out waiting for page to load and finding the required web element.\n",
      "//*[@id=\"react-root\"]/div/div/div[2]/main/div/div/div/div[1]/div/div[3]/div/div/div/div/div[4]/div/span[1]/span\n",
      "Timed out waiting for page to load and finding the required web element.\n",
      "//*[@id=\"react-root\"]/div/div/div[2]/main/div/div/div/div[1]/div/div[3]/div/div/div/div/div[5]/div[1]/a/span[1]/span\n",
      "Timed out waiting for page to load and finding the required web element.\n",
      "//*[@id=\"react-root\"]/div/div/div[2]/main/div/div/div/div[1]/div/div[3]/div/div/div/div/div[5]/div[2]/a/span[1]/span\n",
      "['Boulder, CO USAae-technologies.comJoined February 2012', None, None, None, '1']\n",
      "['Create, manage and grow your business online with Wix. It’s more than just a website builder, it’s how your vision comes to life. For support: \\n@WixHelp\\n.', \"We're everywhere!\", '3,722', '417.9K', 'wix.com']\n",
      "['A & G Insurance prides itself on being your local, full service, Independent Insurance Agency.', 'Connecticut', '260', '40', 'aginsuranceinc.com']\n"
     ]
    }
   ],
   "source": [
    "fields = list(xpaths.keys())\n",
    "with open('twitter_data.csv', 'a', encoding='utf8', newline='') as twt:\n",
    "\n",
    "    # using csv.writer method from CSV package\n",
    "    write = csv.writer(twt)\n",
    "    write.writerow([\"Sr. No.\", \"LINK\"] + fields)\n",
    "    \n",
    "    for i, link in enumerate(links):\n",
    "\n",
    "        tdriver = launch_chrome(link)\n",
    "        details = get_details(tdriver)\n",
    "        write.writerow([i+1, link]+details)\n",
    "\n",
    "        tdriver.close()\n",
    "        tdriver.quit()"
   ]
  },
  {
   "attachments": {},
   "cell_type": "markdown",
   "metadata": {},
   "source": [
    "**Time out message is because the website could not be found in certain profiles**"
   ]
  },
  {
   "cell_type": "code",
   "execution_count": 11,
   "metadata": {},
   "outputs": [],
   "source": [
    "import pandas as pd"
   ]
  },
  {
   "attachments": {},
   "cell_type": "markdown",
   "metadata": {},
   "source": [
    "**Fixing new line characters in bio that affected the format of row in csv**"
   ]
  },
  {
   "cell_type": "code",
   "execution_count": 19,
   "metadata": {},
   "outputs": [],
   "source": [
    "df = pd.read_csv('twitter_data.csv')\n",
    "\n",
    "df[\"BIO\"] = df[\"BIO\"].str.replace('\\n', '\\\\n')\n",
    "\n",
    "df.to_csv(\"twitter_data.csv\", index=False)"
   ]
  }
 ],
 "metadata": {
  "kernelspec": {
   "display_name": "Python 3",
   "language": "python",
   "name": "python3"
  },
  "language_info": {
   "codemirror_mode": {
    "name": "ipython",
    "version": 3
   },
   "file_extension": ".py",
   "mimetype": "text/x-python",
   "name": "python",
   "nbconvert_exporter": "python",
   "pygments_lexer": "ipython3",
   "version": "3.9.1"
  },
  "orig_nbformat": 4
 },
 "nbformat": 4,
 "nbformat_minor": 2
}
